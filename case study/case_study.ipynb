{
 "cells": [
  {
   "cell_type": "code",
   "execution_count": 5,
   "metadata": {},
   "outputs": [
    {
     "name": "stdout",
     "output_type": "stream",
     "text": [
      "CSV文件已成功保存。\n"
     ]
    }
   ],
   "source": [
    "import pandas as pd\n",
    "\n",
    "# 加载药物名称和circRNA名称的CSV文件\n",
    "circRNA_names = pd.read_csv('./data/circ.csv')\n",
    "drug_names = pd.read_csv('./data/drug.csv')\n",
    "\n",
    "# 加载主CSV文件，假设文件名为'drug_circRNA_values.csv'\n",
    "data = pd.read_csv('./case_study/test.csv', sep=' ', header=None)\n",
    "\n",
    "# 设置药物名称作为行索引，circRNA名称作为列标签\n",
    "data.index = drug_names['drug']\n",
    "data.columns = circRNA_names['circRNA']\n",
    "\n",
    "# 为每个circRNA找到对应值最高的前100个药物\n",
    "top_100_drugs = {}\n",
    "for circRNA in data.columns:\n",
    "    top_100_drugs[circRNA] = data[circRNA].nlargest(100).index.tolist()\n",
    "\n",
    "# 为每个药物找到对应值最高的前100个circRNA\n",
    "top_100_circRNAs = {}\n",
    "for drug in data.index:\n",
    "    top_100_circRNAs[drug] = data.loc[drug].nlargest(100).index.tolist()\n",
    "\n",
    "# 将结果转换为DataFrame并保存为CSV文件\n",
    "top_100_drugs_df = pd.DataFrame.from_dict(top_100_drugs, orient='index').transpose()\n",
    "top_100_circRNAs_df = pd.DataFrame.from_dict(top_100_circRNAs, orient='index').transpose()\n",
    "\n",
    "top_100_drugs_df.to_csv('./case_study/top_100_drugs_per_circRNA.csv', index=False)\n",
    "top_100_circRNAs_df.to_csv('./case_study/top_100_circRNAs_per_drug.csv', index=False)\n",
    "\n",
    "print(\"CSV文件已成功保存。\")\n"
   ]
  }
 ],
 "metadata": {
  "kernelspec": {
   "display_name": "pgmg2",
   "language": "python",
   "name": "python3"
  },
  "language_info": {
   "codemirror_mode": {
    "name": "ipython",
    "version": 3
   },
   "file_extension": ".py",
   "mimetype": "text/x-python",
   "name": "python",
   "nbconvert_exporter": "python",
   "pygments_lexer": "ipython3",
   "version": "3.8.18"
  }
 },
 "nbformat": 4,
 "nbformat_minor": 2
}
